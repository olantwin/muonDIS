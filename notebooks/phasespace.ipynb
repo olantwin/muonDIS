{
 "cells": [
  {
   "cell_type": "code",
   "execution_count": 1,
   "metadata": {},
   "outputs": [
    {
     "name": "stdout",
     "output_type": "stream",
     "text": [
      "(const char *) \"6.26/02\"\n"
     ]
    }
   ],
   "source": [
    "gROOT->GetVersion()"
   ]
  },
  {
   "cell_type": "code",
   "execution_count": 2,
   "metadata": {},
   "outputs": [],
   "source": [
    "%jsroot on"
   ]
  },
  {
   "cell_type": "code",
   "execution_count": 3,
   "metadata": {},
   "outputs": [],
   "source": [
    "double P_K = 3;\n",
    "double m_K = 0.498;\n",
    "double m_pi = 0.1396;\n",
    "double m_mu = 0.1057;\n",
    "double m_numu = 0.0002;\n",
    "double angle = TMath::Pi()/8;"
   ]
  },
  {
   "cell_type": "code",
   "execution_count": 4,
   "metadata": {},
   "outputs": [],
   "source": [
    "TLorentzVector K_L{P_K*TMath::Cos(angle), 0, P_K*TMath::Sin(angle), TMath::Sqrt(P_K*P_K+m_K*m_K)};\n",
    "TGenPhaseSpace event;\n",
    "double masses[] = {m_pi, m_mu, m_numu};\n",
    "event.SetDecay(K_L, 3, masses);"
   ]
  },
  {
   "cell_type": "code",
   "execution_count": 5,
   "metadata": {},
   "outputs": [],
   "source": [
    "ROOT::RDataFrame df(100000);"
   ]
  },
  {
   "cell_type": "code",
   "execution_count": 6,
   "metadata": {},
   "outputs": [],
   "source": [
    "auto phasespace = df\n",
    "    .Define(\"weight\", \"event.Generate()\")\n",
    "    .Define(\"pi\", \"*event.GetDecay(0)\")\n",
    "    .Define(\"l\", \"*event.GetDecay(1)\")\n",
    "    .Define(\"nu\", \"*event.GetDecay(2)\");"
   ]
  },
  {
   "cell_type": "raw",
   "metadata": {},
   "source": [
    "auto genFunc = [event](){\n",
    "    auto weight = event.Generate();\n",
    "    auto pi = *event.GetDecay(0);\n",
    "    auto l = *event.GetDecay(1);\n",
    "    auto nu = *event.GetDecay(1);\n",
    "    return make_tuple(weight, pi, l, nu);\n",
    "}"
   ]
  },
  {
   "cell_type": "raw",
   "metadata": {},
   "source": [
    "df.MultiDefine({\"weight\", \"pi\", \"l\", \"nu\"}, genFunc);"
   ]
  },
  {
   "cell_type": "code",
   "execution_count": 7,
   "metadata": {},
   "outputs": [],
   "source": [
    "auto phasespace_with_vars = phasespace\n",
    ".Define(\"piP\", \"sqrt(pi.Px()*pi.Px()+pi.Py()*pi.Py()+pi.Pz()*pi.Pz())\")\n",
    ".Define(\"lP\", \"sqrt(l.Px()*l.Px()+l.Py()*l.Py()+l.Pz()*l.Pz())\")\n",
    ".Define(\"candidate\", \"pi+l\")\n",
    ".Define(\"candidateP\", \"sqrt(candidate.Px()*candidate.Px()+candidate.Py()*candidate.Py()+candidate.Pz()*candidate.Pz())\")\n",
    ".Define(\"IP0x\", \"abs(candidate.Px()/candidateP)*35\")\n",
    ".Define(\"IP0y\", \"abs(candidate.Py()/candidateP)*35\");"
   ]
  },
  {
   "cell_type": "code",
   "execution_count": 8,
   "metadata": {},
   "outputs": [],
   "source": [
    "ROOT::RDF::RSnapshotOptions opts;\n",
    "opts.fLazy = true;\n",
    "phasespace_with_vars.Snapshot(\"phasespace\", \"K_L_phasespace_augmented.root\", \"\", opts);"
   ]
  },
  {
   "cell_type": "code",
   "execution_count": 9,
   "metadata": {},
   "outputs": [],
   "source": [
    "auto phasespace_with_cuts = phasespace_with_vars\n",
    ".Filter(\"piP > 1 && lP > 1\", \"Product momentum\")\n",
    ".Filter(\"pi.Pz() > 0 && l.Pz() > 0\", \"Product direction\")\n",
    ".Filter(\"IP0y < 7.5\", \"Approximate fiducial/IP0 Y\")\n",
    ".Filter(\"IP0x < 5\", \"Approximate fiducial/IP0 X\");"
   ]
  },
  {
   "cell_type": "code",
   "execution_count": 10,
   "metadata": {},
   "outputs": [],
   "source": [
    "auto report = phasespace_with_cuts.Report();"
   ]
  },
  {
   "cell_type": "code",
   "execution_count": 11,
   "metadata": {},
   "outputs": [
    {
     "name": "stdout",
     "output_type": "stream",
     "text": [
      "Product momentum: pass=24581      all=100000     -- eff=24.58 % cumulative eff=24.58 %\n",
      "Product direction: pass=24581      all=24581      -- eff=100.00 % cumulative eff=24.58 %\n",
      "Approximate fiducial/IP0 Y: pass=24581      all=24581      -- eff=100.00 % cumulative eff=24.58 %\n",
      "Approximate fiducial/IP0 X: pass=0          all=24581      -- eff=0.00 % cumulative eff=0.00 %\n"
     ]
    }
   ],
   "source": [
    "report->Print();"
   ]
  }
 ],
 "metadata": {
  "kernelspec": {
   "display_name": "ROOT C++",
   "language": "c++",
   "name": "root"
  },
  "language_info": {
   "codemirror_mode": "text/x-c++src",
   "file_extension": ".C",
   "mimetype": " text/x-c++src",
   "name": "c++"
  }
 },
 "nbformat": 4,
 "nbformat_minor": 2
}
