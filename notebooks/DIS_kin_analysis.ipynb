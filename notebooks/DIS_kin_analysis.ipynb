{
 "cells": [
  {
   "cell_type": "code",
   "execution_count": null,
   "metadata": {},
   "outputs": [],
   "source": [
    "// ROOT::EnableImplicitMT();"
   ]
  },
  {
   "cell_type": "code",
   "execution_count": null,
   "metadata": {},
   "outputs": [],
   "source": [
    "ROOT::RDataFrame dis(\"dis\", \"dis.root\");"
   ]
  },
  {
   "cell_type": "code",
   "execution_count": null,
   "metadata": {},
   "outputs": [],
   "source": [
    "gStyle->SetOptStat(11111111);"
   ]
  },
  {
   "cell_type": "code",
   "execution_count": null,
   "metadata": {},
   "outputs": [],
   "source": [
    "using ROOT::VecOps::RVec;\n",
    "using ROOT::VecOps::Map;\n",
    "using ROOT::VecOps::Filter;"
   ]
  },
  {
   "cell_type": "code",
   "execution_count": null,
   "metadata": {},
   "outputs": [],
   "source": [
    "template<typename T>\n",
    "auto clones_converter(const TClonesArray &clones) -> RVec<T>{\n",
    "    RVec<T> items;\n",
    "    for (auto&& clone : clones) {\n",
    "        auto item = static_cast<T*>(clone);\n",
    "        items.emplace_back(*item);\n",
    "    }\n",
    "    return items;\n",
    "};"
   ]
  },
  {
   "cell_type": "code",
   "execution_count": null,
   "metadata": {},
   "outputs": [],
   "source": [
    "auto dis_with_vars = dis\n",
    ".Define(\"mu\", \"*dynamic_cast<TLorentzVector*>(muon[0])\")\n",
    ".Define(\"products\", clones_converter<TLorentzVector>, {\"particles\"})\n",
    ".Define(\"theta\", [](const RVec<TLorentzVector>& ps, const TLorentzVector& mu){\n",
    "    return Map(ps, [&mu](const TLorentzVector& particle){\n",
    "        return mu.Angle(particle.Vect());\n",
    "    });\n",
    "}, {\"products\", \"mu\"})\n",
    ".Define(\"lifetime\", [](const RVec<int>& ps){\n",
    "    return Map(ps, [](const int& id){\n",
    "        auto PDG = TDatabasePDG::Instance();\n",
    "        return PDG->GetParticle(id)->Lifetime();\n",
    "    });\n",
    "}, {\"pids\"})\n",
    ".Define(\"gamma\", [](const RVec<TLorentzVector>& products){\n",
    "    return Map(products, [](const TLorentzVector& p){\n",
    "        return p.Gamma();\n",
    "    });\n",
    "}, {\"products\"})\n",
    ".Define(\"beta\", [](const RVec<TLorentzVector>& products){\n",
    "    return Map(products, [](const TLorentzVector& p){\n",
    "        return p.Beta();\n",
    "    });\n",
    "}, {\"products\"})\n",
    ".Define(\"P\", [](const RVec<TLorentzVector>& products){\n",
    "    return Map(products, [](const TLorentzVector& p){\n",
    "        return TMath::Sqrt(p.Px()*p.Px()+p.Py()*p.Py()+p.Pz()*p.Pz());\n",
    "    });\n",
    "}, {\"products\"})\n",
    ".Define(\"E\", [](const RVec<TLorentzVector>& products){\n",
    "    return Map(products, [](const TLorentzVector& p){\n",
    "        return p.E();\n",
    "    });\n",
    "}, {\"products\"})\n",
    ".Filter(\"mu.E()<70\", \"µ momentum cut 70 GeV\")\n",
    ".Define(\"ctau\", \"beta*TMath::C()*gamma*lifetime\")\n",
    ".Define(\"farEnough\", \"ctau>2\")\n",
    ".Define(\"theta_far\", \"theta[farEnough]\")\n",
    ".Define(\"hiAngle\", \"theta>TMath::Pi()/4\")\n",
    ".Define(\"K_L\", \"pids==130\")\n",
    ".Define(\"momentum\", \"P[hiAngle && farEnough]\")\n",
    ".Define(\"energy\", \"E[hiAngle && farEnough]\")\n",
    ".Define(\"K_L_with_angle\", \"K_L[hiAngle]\")\n",
    ".Define(\"K_L_with_angle_and_ctau\", \"K_L[farEnough && hiAngle]\")\n",
    ".Define(\"K_L_with_ctau\", \"K_L[farEnough]\")"
   ]
  },
  {
   "cell_type": "code",
   "execution_count": null,
   "metadata": {},
   "outputs": [],
   "source": [
    "auto thetas = dis_with_vars.Histo1D(\"theta\");\n",
    "auto pids = dis_with_vars.Histo1D(\"pids\");\n",
    "auto lifetimes = dis_with_vars.Histo1D(\"lifetime\");\n",
    "auto ctaus = dis_with_vars.Histo1D(\"ctau\");\n",
    "auto momentum = dis_with_vars.Histo1D(\"momentum\");\n",
    "auto energy = dis_with_vars.Histo1D(\"energy\");"
   ]
  },
  {
   "cell_type": "code",
   "execution_count": null,
   "metadata": {},
   "outputs": [],
   "source": [
    "auto report = dis_with_vars.Report()"
   ]
  },
  {
   "cell_type": "code",
   "execution_count": null,
   "metadata": {},
   "outputs": [],
   "source": [
    "auto kaons = dis_with_vars.Sum(\"K_L\");\n",
    "auto dangerous_kaons = dis_with_vars.Sum(\"K_L_with_angle\");\n",
    "auto very_dangerous_kaons = dis_with_vars.Sum(\"K_L_with_angle_and_ctau\");\n",
    "auto old_kaons = dis_with_vars.Sum(\"K_L_with_ctau\");"
   ]
  },
  {
   "cell_type": "code",
   "execution_count": null,
   "metadata": {},
   "outputs": [],
   "source": [
    "std::cout << kaons.GetValue() << std::endl;\n",
    "std::cout << dangerous_kaons.GetValue() << std::endl;\n",
    "std::cout << very_dangerous_kaons.GetValue() << std::endl;\n",
    "std::cout << old_kaons.GetValue() << std::endl;"
   ]
  },
  {
   "cell_type": "markdown",
   "metadata": {},
   "source": [
    "# Explode operation would be great to generate cutflow on tracks/particles"
   ]
  },
  {
   "cell_type": "code",
   "execution_count": null,
   "metadata": {},
   "outputs": [],
   "source": [
    "report->Print();"
   ]
  },
  {
   "cell_type": "code",
   "execution_count": null,
   "metadata": {},
   "outputs": [],
   "source": [
    "11757./4310000."
   ]
  },
  {
   "cell_type": "code",
   "execution_count": null,
   "metadata": {},
   "outputs": [],
   "source": [
    "gStyle->SetOptStat(0);"
   ]
  },
  {
   "cell_type": "code",
   "execution_count": null,
   "metadata": {},
   "outputs": [],
   "source": [
    "TCanvas c1;\n",
    "c1.SetLogy();\n",
    "thetas->Draw();\n",
    "c1.Draw();"
   ]
  },
  {
   "cell_type": "code",
   "execution_count": null,
   "metadata": {},
   "outputs": [],
   "source": [
    "TCanvas c2;\n",
    "pids->Draw();\n",
    "c2.Draw();"
   ]
  },
  {
   "cell_type": "code",
   "execution_count": null,
   "metadata": {},
   "outputs": [],
   "source": [
    "TCanvas c3;\n",
    "lifetimes->Draw();\n",
    "c3.Draw();"
   ]
  },
  {
   "cell_type": "code",
   "execution_count": null,
   "metadata": {},
   "outputs": [],
   "source": [
    "TCanvas c4;\n",
    "c4.SetLogy();\n",
    "ctaus->Draw();\n",
    "c4.Draw();"
   ]
  },
  {
   "cell_type": "code",
   "execution_count": null,
   "metadata": {},
   "outputs": [],
   "source": [
    "TCanvas c7;\n",
    "momentum->Draw();\n",
    "c7.Draw();"
   ]
  },
  {
   "cell_type": "code",
   "execution_count": null,
   "metadata": {},
   "outputs": [],
   "source": [
    "TCanvas c8(\"c\", \"c\", 400,400);"
   ]
  },
  {
   "cell_type": "code",
   "execution_count": null,
   "metadata": {},
   "outputs": [],
   "source": [
    "energy->GetXaxis()->CenterTitle(true);\n",
    "energy->SetTitle(\"\");\n",
    "energy->GetXaxis()->SetTitle(\"$E\\\\;[\\\\mathrm{GeV}/c^2]$\");\n",
    "energy->GetXaxis()->SetTitleSize(0.04);\n",
    "energy->Draw();\n",
    "\n",
    "c8.Draw();"
   ]
  },
  {
   "cell_type": "code",
   "execution_count": null,
   "metadata": {},
   "outputs": [],
   "source": [
    "c8.SaveAs(\"dangerous_energies.png\");\n",
    "c8.SaveAs(\"dangerous_energies.tex\");"
   ]
  },
  {
   "cell_type": "code",
   "execution_count": null,
   "metadata": {},
   "outputs": [],
   "source": [
    "c7.SaveAs(\"dangerous_momenta.png\");"
   ]
  },
  {
   "cell_type": "code",
   "execution_count": null,
   "metadata": {},
   "outputs": [],
   "source": [
    "1200000./4450000."
   ]
  },
  {
   "cell_type": "code",
   "execution_count": null,
   "metadata": {},
   "outputs": [],
   "source": [
    "TCanvas c5;\n",
    "auto thetas_cumulative = thetas->GetCumulative(false);\n",
    "thetas_cumulative->Scale(1./thetas->Integral(), \"nosw2\");\n",
    "thetas_cumulative->SetTitle(\"Cumulative #theta;#theta\");\n",
    "thetas_cumulative->Draw();\n",
    "c5.Draw();"
   ]
  },
  {
   "cell_type": "code",
   "execution_count": null,
   "metadata": {},
   "outputs": [],
   "source": [
    "TCanvas c6;\n",
    "auto ctaus_cumulative = ctaus->GetCumulative(false);\n",
    "ctaus_cumulative->Scale(1./ctaus->Integral(), \"nosw2\");\n",
    "ctaus_cumulative->SetTitle(\"Cumulative c#tau; c#tau\");\n",
    "ctaus_cumulative->Draw();\n",
    "c6.Draw();"
   ]
  },
  {
   "cell_type": "code",
   "execution_count": null,
   "metadata": {},
   "outputs": [],
   "source": []
  }
 ],
 "metadata": {
  "kernelspec": {
   "display_name": "ROOT C++",
   "language": "c++",
   "name": "root"
  },
  "language_info": {
   "codemirror_mode": "text/x-c++src",
   "file_extension": ".C",
   "mimetype": " text/x-c++src",
   "name": "c++"
  }
 },
 "nbformat": 4,
 "nbformat_minor": 2
}
