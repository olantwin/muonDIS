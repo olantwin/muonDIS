{
 "cells": [
  {
   "cell_type": "code",
   "execution_count": null,
   "metadata": {},
   "outputs": [],
   "source": [
    "import ROOT as r"
   ]
  },
  {
   "cell_type": "code",
   "execution_count": null,
   "metadata": {},
   "outputs": [],
   "source": [
    "r.ROOT.EnableImplicitMT()"
   ]
  },
  {
   "cell_type": "code",
   "execution_count": null,
   "metadata": {},
   "outputs": [],
   "source": [
    "r.gStyle.SetPalette(r.kCividis)\n",
    "r.gStyle.SetOptStat(1111110)"
   ]
  },
  {
   "cell_type": "code",
   "execution_count": null,
   "metadata": {},
   "outputs": [],
   "source": [
    "df = r.ROOT.RDataFrame(\"muonsSBT\", \"../muonsCavern2018.0-66000.root\")"
   ]
  },
  {
   "cell_type": "code",
   "execution_count": null,
   "metadata": {},
   "outputs": [],
   "source": [
    "df_augmented = df.Define(\"P\", \"sqrt(px*px+py*py+pz*pz)\")\\\n",
    "        .Define(\"theta\", \"TMath::ATan2(abs(px), pz)\")\\\n",
    "        .Define(\"dzmin\", \"25-z\")\\\n",
    "        .Define(\"dzmax\", \"-25-z\")\\\n",
    "        .Define(\"alphamin\", \"TMath::Pi()/2. + TMath::ATan2(dzmin, 10)\")\\\n",
    "        .Define(\"alphamax\", \"TMath::Pi()/2. - TMath::ATan2(dzmax, 10)\")\\\n",
    "        .Define(\"alpha\", \"std::min(theta+alphamin, 2*TMath::Pi()-(theta+alphamin))\")"
   ]
  },
  {
   "cell_type": "code",
   "execution_count": null,
   "metadata": {},
   "outputs": [],
   "source": [
    "h1 = df_augmented.Histo1D((\"h1\", \"h1\", 100, 0, 100), \"P\", \"w\")"
   ]
  },
  {
   "cell_type": "code",
   "execution_count": null,
   "metadata": {},
   "outputs": [],
   "source": [
    "h2 = df_augmented.Histo2D((\"h\", \"h\", 100, -60, +36, 10, 3, 100), \"z\", \"P\", \"w\")"
   ]
  },
  {
   "cell_type": "code",
   "execution_count": null,
   "metadata": {},
   "outputs": [],
   "source": [
    "h3 = df_augmented.Histo1D(\"theta\", \"w\")"
   ]
  },
  {
   "cell_type": "code",
   "execution_count": null,
   "metadata": {},
   "outputs": [],
   "source": [
    "h4 = df_augmented.Histo2D((\"h4\", \"#theta iso z\", 100, -60, +36, 100, 0, 1), \"z\", \"theta\", \"w\")"
   ]
  },
  {
   "cell_type": "code",
   "execution_count": null,
   "metadata": {},
   "outputs": [],
   "source": [
    "h5 = df_augmented.Histo2D((\"h6\", \"#alpha_{min} iso z\", 100, -60, 36, 100, 0, r.TMath.Pi()), \"z\", \"alphamin\", \"w\")"
   ]
  },
  {
   "cell_type": "code",
   "execution_count": null,
   "metadata": {},
   "outputs": [],
   "source": [
    "h6 = df_augmented.Histo2D((\"h6\", \"#alpha_{min} iso #theta\", 100, 0, 1, 100, 0, 2*r.TMath.Pi()), \"theta\", \"alphamin\", \"w\")"
   ]
  },
  {
   "cell_type": "code",
   "execution_count": null,
   "metadata": {},
   "outputs": [],
   "source": [
    "h7 = df_augmented.Histo1D((\"h7\", \"\", 100, 0, r.TMath.Pi()+0.001), \"alpha\", \"w\")"
   ]
  },
  {
   "cell_type": "code",
   "execution_count": null,
   "metadata": {},
   "outputs": [],
   "source": [
    "c1 = r.TCanvas()\n",
    "\n",
    "h3.Draw()\n",
    "c1.Draw()"
   ]
  },
  {
   "cell_type": "code",
   "execution_count": null,
   "metadata": {},
   "outputs": [],
   "source": [
    "c2 = r.TCanvas()\n",
    "\n",
    "h2.Draw(\"colz\")\n",
    "\n",
    "c2.Draw()"
   ]
  },
  {
   "cell_type": "code",
   "execution_count": null,
   "metadata": {},
   "outputs": [],
   "source": [
    "c1 = r.TCanvas()\n",
    "h1.Draw()\n",
    "c1.SetLogy()\n",
    "c1.Draw()"
   ]
  },
  {
   "cell_type": "code",
   "execution_count": null,
   "metadata": {},
   "outputs": [],
   "source": [
    "c4 = r.TCanvas()\n",
    "\n",
    "h4.Draw(\"colz\")\n",
    "c4.Draw()"
   ]
  },
  {
   "cell_type": "code",
   "execution_count": null,
   "metadata": {},
   "outputs": [],
   "source": [
    "c5 = r.TCanvas()\n",
    "\n",
    "h5.Draw(\"colz\")\n",
    "c5.Draw()"
   ]
  },
  {
   "cell_type": "code",
   "execution_count": null,
   "metadata": {},
   "outputs": [],
   "source": [
    "c6 = r.TCanvas()\n",
    "\n",
    "h6.Draw(\"colz\")\n",
    "\n",
    "c6.Draw()"
   ]
  },
  {
   "cell_type": "code",
   "execution_count": null,
   "metadata": {},
   "outputs": [],
   "source": [
    "r.gStyle.SetOptStat(11111111)"
   ]
  },
  {
   "cell_type": "code",
   "execution_count": null,
   "metadata": {},
   "outputs": [],
   "source": [
    "c7 = r.TCanvas()"
   ]
  },
  {
   "cell_type": "code",
   "execution_count": null,
   "metadata": {},
   "outputs": [],
   "source": [
    "h7.SetTitle(\";#alpha\")\n",
    "h7.Draw()\n",
    "c7.Draw()"
   ]
  },
  {
   "cell_type": "code",
   "execution_count": null,
   "metadata": {},
   "outputs": [],
   "source": [
    "c7.SaveAs(\"theta_to_vessel.pdf\")\n",
    "c7.SaveAs(\"theta_to_vessel.tex\")"
   ]
  },
  {
   "cell_type": "code",
   "execution_count": null,
   "metadata": {},
   "outputs": [],
   "source": [
    "r.gStyle.SetOptStat(0)"
   ]
  },
  {
   "cell_type": "code",
   "execution_count": null,
   "metadata": {},
   "outputs": [],
   "source": [
    "c8 = r.TCanvas()"
   ]
  },
  {
   "cell_type": "code",
   "execution_count": null,
   "metadata": {},
   "outputs": [],
   "source": [
    "h8 = h7.GetCumulative()\n",
    "h8.Scale(1./h7.Integral(), \"nosw2\")\n",
    "h8.SetTitle(\"Cumulative minimum angle to vessel; #alpha; Fraction\")\n",
    "h8.Draw()\n",
    "c8.Draw()"
   ]
  },
  {
   "cell_type": "code",
   "execution_count": null,
   "metadata": {},
   "outputs": [],
   "source": [
    "c8.SaveAs(\"cumulative_theta_to_vessel.png\")\n",
    "c8.SaveAs(\"cumulative_theta_to_vessel.tex\")"
   ]
  },
  {
   "cell_type": "code",
   "execution_count": null,
   "metadata": {},
   "outputs": [],
   "source": []
  },
  {
   "cell_type": "code",
   "execution_count": null,
   "metadata": {},
   "outputs": [],
   "source": [
    "c9 = r.TCanvas(\"c\", \"c\", 600, 400)"
   ]
  },
  {
   "cell_type": "code",
   "execution_count": null,
   "metadata": {},
   "outputs": [],
   "source": [
    "ax7 = h7.GetXaxis()\n",
    "ax7.CenterTitle(True)"
   ]
  },
  {
   "cell_type": "code",
   "execution_count": null,
   "metadata": {},
   "outputs": [],
   "source": [
    "h7.Draw(\"hist\")\n",
    "c9.Draw()"
   ]
  },
  {
   "cell_type": "code",
   "execution_count": null,
   "metadata": {},
   "outputs": [],
   "source": [
    "rightmax = 1.1*h8.GetMaximum()\n",
    "scale    = c9.GetUymax()/rightmax\n",
    "\n",
    "h8.SetLineColor(r.kRed)\n",
    "h8.Scale(scale)\n",
    "h8.Draw(\"same\")"
   ]
  },
  {
   "cell_type": "code",
   "execution_count": null,
   "metadata": {},
   "outputs": [],
   "source": [
    "print r.gPad.GetUxmin(), r.gPad.GetUxmax()\n",
    "print r.gPad.GetUymin(), r.gPad.GetUymax()"
   ]
  },
  {
   "cell_type": "code",
   "execution_count": null,
   "metadata": {},
   "outputs": [],
   "source": [
    "ax = r.TGaxis(c9.GetUxmax(), c9.GetUymin(),\n",
    "              c9.GetUxmax(), c9.GetUymax(),\n",
    "              0, rightmax, 510, \"+L\")\n",
    "ax.SetLineColor(r.kRed)\n",
    "ax.SetLabelColor(r.kRed)\n",
    "ax.SetTitleColor(r.kRed)\n",
    "ax.SetTitle(\"Cumulative fraction\")\n",
    "ax.CenterTitle(True)\n",
    "# ax.RotateTitle(true)\n",
    "ax.Draw()"
   ]
  },
  {
   "cell_type": "code",
   "execution_count": null,
   "metadata": {},
   "outputs": [],
   "source": [
    "ax7.SetNdivisions(-502)\n",
    "ax7.ChangeLabel(-1,-1,-1,-1,-1,-1,\"#pi\")\n",
    "ax7.ChangeLabel(-2,-1,-1,-1,-1,-1,\"#pi/2\")\n",
    "ax7.SetTitleSize(0.05)"
   ]
  },
  {
   "cell_type": "code",
   "execution_count": null,
   "metadata": {},
   "outputs": [],
   "source": [
    "c9.Draw()"
   ]
  },
  {
   "cell_type": "code",
   "execution_count": null,
   "metadata": {},
   "outputs": [],
   "source": [
    "c9.SaveAs(\"combined_theta_to_vessel.png\")\n",
    "c9.SaveAs(\"combined_theta_to_vessel.tex\")"
   ]
  },
  {
   "cell_type": "code",
   "execution_count": null,
   "metadata": {},
   "outputs": [],
   "source": []
  }
 ],
 "metadata": {
  "kernelspec": {
   "display_name": "Python 2",
   "language": "python",
   "name": "python2"
  },
  "language_info": {
   "codemirror_mode": {
    "name": "ipython",
    "version": 2
   },
   "file_extension": ".py",
   "mimetype": "text/x-python",
   "name": "python",
   "nbconvert_exporter": "python",
   "pygments_lexer": "ipython2",
   "version": "2.7.15"
  }
 },
 "nbformat": 4,
 "nbformat_minor": 2
}
