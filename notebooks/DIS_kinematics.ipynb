{
 "cells": [
  {
   "cell_type": "code",
   "execution_count": null,
   "metadata": {},
   "outputs": [],
   "source": [
    "import ROOT as r"
   ]
  },
  {
   "cell_type": "code",
   "execution_count": null,
   "metadata": {},
   "outputs": [],
   "source": [
    "# r.ROOT.EnableImplicitMT()"
   ]
  },
  {
   "cell_type": "code",
   "execution_count": null,
   "metadata": {},
   "outputs": [],
   "source": [
    "f = r.TFile.Open(\"../muonDis_Tr1.root\", \"read\")"
   ]
  },
  {
   "cell_type": "code",
   "execution_count": null,
   "metadata": {},
   "outputs": [],
   "source": [
    "fout = r.TFile.Open(\"dis.root\", \"recreate\")"
   ]
  },
  {
   "cell_type": "code",
   "execution_count": null,
   "metadata": {},
   "outputs": [],
   "source": [
    "fout.cd()"
   ]
  },
  {
   "cell_type": "code",
   "execution_count": null,
   "metadata": {},
   "outputs": [],
   "source": [
    "#h = r.TH1D(\"angle\", \"angle\", 100, 0, r.TMath.Pi())"
   ]
  },
  {
   "cell_type": "code",
   "execution_count": null,
   "metadata": {},
   "outputs": [],
   "source": [
    "tree = r.TTree(\"dis\", \"DIS kinematics\")"
   ]
  },
  {
   "cell_type": "code",
   "execution_count": null,
   "metadata": {},
   "outputs": [],
   "source": [
    "muon = r.TClonesArray(\"TLorentzVector\")\n",
    "particles = r.TClonesArray(\"TLorentzVector\")\n",
    "pids = r.std.vector(\"int\")()\n",
    "tree.Branch(\"muon\", muon)\n",
    "tree.Branch(\"particles\", particles)\n",
    "tree.Branch(\"pids\", pids)"
   ]
  },
  {
   "cell_type": "code",
   "execution_count": null,
   "metadata": {},
   "outputs": [],
   "source": [
    "intree = f.DIS\n",
    "nTotal = intree.GetEntries()"
   ]
  },
  {
   "cell_type": "code",
   "execution_count": null,
   "metadata": {},
   "outputs": [],
   "source": [
    "for n, event in enumerate(f.DIS):\n",
    "    if n%100000 == 0: \n",
    "        print \"{}/{}\".format(n, nTotal)\n",
    "    particles.Clear()\n",
    "    muon.Clear()\n",
    "    pids.clear()\n",
    "    assert len(event.InMuon)==1\n",
    "    pid, px, py, pz, E, x, y, z, w, isProton, xsec = event.InMuon[0]\n",
    "    muon[0] = r.TLorentzVector(px, py, pz, E)\n",
    "    for i, particle in enumerate(event.Particles):\n",
    "        pid, px, py, pz, E = particle\n",
    "        pids.push_back(int(pid))\n",
    "        if particles.GetSize() == i:\n",
    "            particles.Expand(2*i)\n",
    "        particles[i] = r.TLorentzVector(px, py, pz, E)\n",
    "        # h.Fill(p.Angle(muon.Vect()))\n",
    "    tree.Fill()\n",
    "        # print pid\n",
    "    #break"
   ]
  },
  {
   "cell_type": "code",
   "execution_count": null,
   "metadata": {},
   "outputs": [],
   "source": [
    "fout.Write()\n",
    "fout.Close()"
   ]
  },
  {
   "cell_type": "code",
   "execution_count": null,
   "metadata": {},
   "outputs": [],
   "source": [
    "# r.gStyle.SetOptStat(11111111)"
   ]
  },
  {
   "cell_type": "code",
   "execution_count": null,
   "metadata": {},
   "outputs": [],
   "source": [
    "# c = r.TCanvas()\n",
    "# h.Draw()\n",
    "# c.Draw()"
   ]
  },
  {
   "cell_type": "code",
   "execution_count": null,
   "metadata": {},
   "outputs": [],
   "source": []
  }
 ],
 "metadata": {
  "kernelspec": {
   "display_name": "Python 3 (ipykernel)",
   "language": "python",
   "name": "python3"
  },
  "language_info": {
   "codemirror_mode": {
    "name": "ipython",
    "version": 3
   },
   "file_extension": ".py",
   "mimetype": "text/x-python",
   "name": "python",
   "nbconvert_exporter": "python",
   "pygments_lexer": "ipython3",
   "version": "3.8.10"
  }
 },
 "nbformat": 4,
 "nbformat_minor": 2
}
